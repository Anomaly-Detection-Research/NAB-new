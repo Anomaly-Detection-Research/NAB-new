{
 "cells": [
  {
   "cell_type": "code",
   "execution_count": 10,
   "metadata": {
    "scrolled": true
   },
   "outputs": [
    {
     "data": {
      "text/html": [
       "<script type=\"text/javascript\">window.PlotlyConfig = {MathJaxConfig: 'local'};</script><script type=\"text/javascript\">if (window.MathJax) {MathJax.Hub.Config({SVG: {font: \"STIX-Web\"}});}</script><script>requirejs.config({paths: { 'plotly': ['https://cdn.plot.ly/plotly-latest.min']},});if(!window._Plotly) {require(['plotly'],function(plotly) {window._Plotly=plotly;});}</script>"
      ],
      "text/vnd.plotly.v1+html": [
       "<script type=\"text/javascript\">window.PlotlyConfig = {MathJaxConfig: 'local'};</script><script type=\"text/javascript\">if (window.MathJax) {MathJax.Hub.Config({SVG: {font: \"STIX-Web\"}});}</script><script>requirejs.config({paths: { 'plotly': ['https://cdn.plot.ly/plotly-latest.min']},});if(!window._Plotly) {require(['plotly'],function(plotly) {window._Plotly=plotly;});}</script>"
      ]
     },
     "metadata": {},
     "output_type": "display_data"
    }
   ],
   "source": [
    "import warnings\n",
    "import itertools\n",
    "import pandas\n",
    "import math\n",
    "import sys\n",
    "import os\n",
    "import numpy as np\n",
    "from plotly.offline import download_plotlyjs, init_notebook_mode, plot, iplot\n",
    "init_notebook_mode(connected=True)\n",
    "detector_profile='S(t)_standard'"
   ]
  },
  {
   "cell_type": "code",
   "execution_count": 11,
   "metadata": {
    "scrolled": true
   },
   "outputs": [],
   "source": [
    "result_file1 = \"../results/TSA_AR/realTraffic/TSA_AR_speed_7578.csv\"\n",
    "result_file2 = \"../results/LSTMCNnet/realTraffic/LSTMCNnet_speed_7578.csv\"\n",
    "\n",
    "threshold_1 = 0.7856933593750001\n",
    "threshold_2 = 0.5"
   ]
  },
  {
   "cell_type": "code",
   "execution_count": 16,
   "metadata": {
    "scrolled": false
   },
   "outputs": [],
   "source": [
    "def compare_detectors(results_files, thresholds, detector_names):\n",
    "    \n",
    "    no_of_detecors = len(result_files)\n",
    "    DataFrame = pandas.read_csv(result_files[0])\n",
    "    x = np.array(DataFrames['timestamp'])\n",
    "    \n",
    "    trace_values = np.zeros(no_of_detecors)\n",
    "#     trace_val_anomaly_scores = np.zeros(no_of_detecors)\n",
    "#     trace_val_anolamy_labels = np.zeros(no_of_detecors)\n",
    "#     trace_val_thresholds = np.zeros(no_of_detecors)\n",
    "    \n",
    "    trace_anomaly_scores = np.zeros(no_of_detecors)\n",
    "    trace_anolamy_labels = np.zeros(no_of_detecors)\n",
    "    trace_thresholds = np.zeros(no_of_detecors)\n",
    "    trace_scores = np.zeros(no_of_detecors)\n",
    "    \n",
    "    value_traces = []\n",
    "    score_traces = []\n",
    "    \n",
    "    for i in range(0,len(result_files)):\n",
    "        print(\"comparing results in file : \"+ result_files[i])\n",
    "        DataFrame = pandas.read_csv(result_files[i])\n",
    "        \n",
    "        trace_values[i] = {\"x\": x, \n",
    "                           \"y\": np.array(DataFrame['value']),\n",
    "                            \"mode\": 'lines',\n",
    "                            \"name\": 'value | ' + detector_names[i]}\n",
    "        trace_anomaly_scores[i] = {\"x\": x, \n",
    "                           \"y\": np.array(DataFrame['anomaly_score']),\n",
    "                            \"mode\": 'lines',\n",
    "                            \"name\": 'anomaly_score | ' + detector_names[i]}\n",
    "        trace_anolamy_labels[i] = {\"x\": x, \n",
    "                           \"y\": np.array(DataFrame['label']),\n",
    "                            \"mode\": 'lines',\n",
    "                            \"name\": 'label | ' + detector_names[i]}\n",
    "        trace_thresholds[i] = {\"x\": x, \n",
    "                           \"y\": np.ones(len(x))*thresholds[i],\n",
    "                            \"mode\": 'lines',\n",
    "                            \"name\": 'threshold | ' + detector_names[i]}\n",
    "        trace_scores[i] = {\"x\": x, \n",
    "                           \"y\": np.array(DataFrame[detector_profile]),\n",
    "                            \"mode\": 'lines',\n",
    "                            \"name\": detector_profile + ' | ' + detector_names[i]}\n",
    "        \n",
    "        value_traces.append(trace_values[i])\n",
    "        score_traces.append(trace_anomaly_scores[i],trace_anolamy_labels[i],trace_thresholds[i],trace_scores[i])\n",
    "        \n",
    "    layout = dict(title = \"Values\",\n",
    "                  xaxis = dict(title = 'X'),\n",
    "                  yaxis = dict(title = 'Value')\n",
    "                 )\n",
    "    fig = dict(data=value_traces, layout=layout)\n",
    "    iplot(fig)\n",
    "\n",
    "    layout = dict(title = \"Values\",\n",
    "                  xaxis = dict(title = 'X'),\n",
    "                  yaxis = dict(title = 'Value')\n",
    "                 )\n",
    "    fig = dict(data=score_traces, layout=layout)\n",
    "    iplot(fig)\n",
    "\n",
    "    "
   ]
  },
  {
   "cell_type": "code",
   "execution_count": 7,
   "metadata": {
    "scrolled": true
   },
   "outputs": [
    {
     "name": "stdout",
     "output_type": "stream",
     "text": [
      "For result file : ../results/TSA_AR/realTraffic/TSA_AR_speed_7578.csv\n",
      "True Positive (Detected anomalies) : 4\n",
      "True Negative (Detected non anomalies) : 1120\n",
      "False Positive (False alarms) : 3\n",
      "False Negative (Anomaly not detected) : 0\n",
      "Total data points : 1127\n",
      "S(t)_standard score : 3.2324261809070007\n"
     ]
    }
   ],
   "source": [
    "\n",
    "TP,TN,FP,FN = 0,0,0,0\n",
    "for x in standard_score_1:\n",
    "    if x > 0:\n",
    "        TP +=1\n",
    "    elif x == -0.11:\n",
    "        FP +=1\n",
    "    elif x == -1:\n",
    "        FN +=1\n",
    "print(\"For result file : \" + result_file)\n",
    "print(\"True Positive (Detected anomalies) : \" + str(TP))\n",
    "print(\"True Negative (Detected non anomalies) : \" + str(TN))\n",
    "print(\"False Positive (False alarms) : \" + str(FP))\n",
    "print(\"False Negative (Anomaly not detected) : \" + str(FN))\n",
    "print(\"Total data points : \" + str(total_Count))\n",
    "print(detector_profile+\" score : \"+str(np.sum(standard_score)))\n",
    "else:\n",
    "    print(Error)\n",
    "    print(\"Run from beginng to clear Error\")"
   ]
  },
  {
   "cell_type": "code",
   "execution_count": null,
   "metadata": {
    "scrolled": true
   },
   "outputs": [],
   "source": []
  }
 ],
 "metadata": {
  "kernelspec": {
   "display_name": "Python 3",
   "language": "python",
   "name": "python3"
  },
  "language_info": {
   "codemirror_mode": {
    "name": "ipython",
    "version": 3
   },
   "file_extension": ".py",
   "mimetype": "text/x-python",
   "name": "python",
   "nbconvert_exporter": "python",
   "pygments_lexer": "ipython3",
   "version": "3.6.5"
  }
 },
 "nbformat": 4,
 "nbformat_minor": 2
}
